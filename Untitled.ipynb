{
 "cells": [
  {
   "cell_type": "code",
   "execution_count": 28,
   "metadata": {},
   "outputs": [
    {
     "data": {
      "text/plain": [
       "<pymongo.results.InsertOneResult at 0x7fe910feaa08>"
      ]
     },
     "execution_count": 28,
     "metadata": {},
     "output_type": "execute_result"
    }
   ],
   "source": [
    "import pymongo\n",
    "from pymongo import MongoClient\n",
    "import csv\n",
    "\n",
    "# DB connectivity\n",
    "client = MongoClient('localhost', 27017)\n",
    "db = client.db\n",
    "collection = db.collection\n",
    "\n",
    "# Function to parse csv to dictionary\n",
    "def csv_to_dict():\n",
    "    reader = csv.DictReader(open(\"data/genera passaggi per python.txt\", encoding = \"ISO-8859-1\"))\n",
    "    result = {}\n",
    "    for row in reader:\n",
    "        key = row.pop('MAC Address')\n",
    "        result[key] = row\n",
    "    return result\n",
    "\n",
    "# Final insert statement\n",
    "db.collection.insert_one(csv_to_dict())"
   ]
  },
  {
   "cell_type": "code",
   "execution_count": null,
   "metadata": {},
   "outputs": [],
   "source": []
  },
  {
   "cell_type": "code",
   "execution_count": null,
   "metadata": {},
   "outputs": [],
   "source": []
  }
 ],
 "metadata": {
  "kernelspec": {
   "display_name": "Python 3",
   "language": "python",
   "name": "python3"
  },
  "language_info": {
   "codemirror_mode": {
    "name": "ipython",
    "version": 3
   },
   "file_extension": ".py",
   "mimetype": "text/x-python",
   "name": "python",
   "nbconvert_exporter": "python",
   "pygments_lexer": "ipython3",
   "version": "3.7.2"
  }
 },
 "nbformat": 4,
 "nbformat_minor": 2
}
