{
 "cells": [
  {
   "cell_type": "code",
   "execution_count": 1,
   "metadata": {},
   "outputs": [],
   "source": [
    "import pandas as pd\n",
    "import numpy as np\n",
    "import matplotlib.pyplot as plt\n",
    "from scipy.stats import mode\n",
    "from scipy.spatial.distance import pdist\n",
    "from scipy.cluster.hierarchy import linkage, dendrogram, fcluster\n",
    "from tqdm import tqdm"
   ]
  },
  {
   "cell_type": "code",
   "execution_count": 2,
   "metadata": {},
   "outputs": [],
   "source": [
    "df = pd.read_csv(\"data/ClusterPercent.csv\", sep=\",\" , index_col=0)\n",
    "df = df.drop([\"sex\",\"area\",\"Total log time\",\"Exam Performance\"],axis=1)\n",
    "df_values = df.values\n",
    "weight = [2,2,2,2,2,1.5,1.5,1.5,1.5,1,1,1]"
   ]
  },
  {
   "cell_type": "code",
   "execution_count": 4,
   "metadata": {},
   "outputs": [],
   "source": [
    "# calcola la matrice delle distanze tra ogni coppia di vettori del dataset\n",
    "# ritorna un array 1-D in cui ogni valore è una distanza \n",
    "# (primo valore la distanza tra v1 e v2, secondo valore distanza tra v1 e v3, ecc.)\n",
    "\n",
    "def weightedDistanceMatrix(X):\n",
    "    distance_matrix = []\n",
    "    for i in tqdm(range(0,len(X))):\n",
    "        for j in range(i+1,len(X)):\n",
    "            distance_matrix.append(np.abs(np.dot((X[i],X[j]),weight)))\n",
    "    return distance_matrix"
   ]
  },
  {
   "cell_type": "code",
   "execution_count": 12,
   "metadata": {},
   "outputs": [
    {
     "name": "stderr",
     "output_type": "stream",
     "text": [
      "100%|██████████| 50/50 [00:00<00:00, 4283.40it/s]\n"
     ]
    },
    {
     "data": {
      "image/png": "[encoded data removed]",
      "text/plain": [
       "<matplotlib.figure.Figure at 0x111967710>"
      ]
     },
     "metadata": {},
     "output_type": "display_data"
    }
   ],
   "source": [
    "# esempio sulle prime 50 righe del dataset\n",
    "\n",
    "df_values_cutted = df_values[0:50]\n",
    "\n",
    "distance_cutted = weightedDistanceMatrix(df_values_cutted)\n",
    "link = linkage(distance_cutted, method='average')\n",
    "res = dendrogram(link,color_threshold=0.5, truncate_mode='lastp')"
   ]
  },
  {
   "cell_type": "code",
   "execution_count": null,
   "metadata": {},
   "outputs": [],
   "source": []
  }
 ],
 "metadata": {
  "kernelspec": {
   "display_name": "Python 3",
   "language": "python",
   "name": "python3"
  },
  "language_info": {
   "codemirror_mode": {
    "name": "ipython",
    "version": 3
   },
   "file_extension": ".py",
   "mimetype": "text/x-python",
   "name": "python",
   "nbconvert_exporter": "python",
   "pygments_lexer": "ipython3",
   "version": "3.6.4"
  }
 },
 "nbformat": 4,
 "nbformat_minor": 2
}
