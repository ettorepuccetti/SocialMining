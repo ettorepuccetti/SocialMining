{
 "cells": [
  {
   "cell_type": "code",
   "execution_count": 1,
   "metadata": {},
   "outputs": [],
   "source": [
    "import pandas as pd\n",
    "import numpy as np\n",
    "import matplotlib.pyplot as plt\n",
    "from scipy.stats import mode\n",
    "from scipy.spatial.distance import pdist\n",
    "from scipy.cluster.hierarchy import linkage, dendrogram, fcluster\n",
    "from tqdm import tqdm"
   ]
  },
  {
   "cell_type": "code",
   "execution_count": 2,
   "metadata": {},
   "outputs": [
    {
     "name": "stdout",
     "output_type": "stream",
     "text": [
      "54981\n"
     ]
    }
   ],
   "source": [
    "df = pd.read_csv(\"data/ClusterPercent.csv\", sep=\",\" , index_col=0)\n",
    "df = df.drop([\"sex\",\"area\",\"Total log time\",\"Exam Performance\"],axis=1)\n",
    "df_values = df.values\n",
    "weight = [2,2,2,2,2,1.5,1.5,1.5,1.5,1,1,1]\n",
    "print (len(df))"
   ]
  },
  {
   "cell_type": "code",
   "execution_count": 3,
   "metadata": {},
   "outputs": [],
   "source": [
    "# calcola la matrice delle distanze tra ogni coppia di vettori del dataset\n",
    "# ritorna un array 1-D in cui ogni valore è una distanza \n",
    "# (primo valore la distanza tra v1 e v2, secondo valore distanza tra v1 e v3, ecc.)\n",
    "\n",
    "def weightedDistanceMatrix(X):\n",
    "    distance_matrix = []\n",
    "    for i in tqdm(range(0,len(X))):\n",
    "        for j in range(i+1,len(X)):\n",
    "            distance_matrix.append(np.abs(np.dot((X[i],X[j]),weight)))\n",
    "    return distance_matrix"
   ]
  },
  {
   "cell_type": "code",
   "execution_count": null,
   "metadata": {},
   "outputs": [
    {
     "name": "stderr",
     "output_type": "stream",
     "text": [
      "  1%|          | 278/54981 [01:47<5:58:35,  2.54it/s]"
     ]
    }
   ],
   "source": [
    "# esempio sulle prime 50 righe del dataset\n",
    "\n",
    "df_values_cutted = df_values[0:50]\n",
    "\n",
    "distance_cutted = weightedDistanceMatrix(df_values)\n",
    "link = linkage(distance_cutted, method='average')\n",
    "res = dendrogram(link,color_threshold=0.2, truncate_mode='lastp')"
   ]
  },
  {
   "cell_type": "code",
   "execution_count": 44,
   "metadata": {},
   "outputs": [
    {
     "name": "stdout",
     "output_type": "stream",
     "text": [
      "19899\n"
     ]
    },
    {
     "data": {
      "text/plain": [
       "array([[0.00000000e+00, 2.00000000e+00, 0.00000000e+00, 2.00000000e+00],\n",
       "       [1.00000000e+00, 4.00000000e+00, 0.00000000e+00, 2.00000000e+00],\n",
       "       [3.00000000e+00, 1.99000000e+04, 0.00000000e+00, 3.00000000e+00],\n",
       "       ...,\n",
       "       [3.95750000e+04, 3.97940000e+04, 8.57568149e-01, 7.18000000e+02],\n",
       "       [3.97910000e+04, 3.97950000e+04, 8.96292808e-01, 1.91820000e+04],\n",
       "       [3.97960000e+04, 3.97970000e+04, 9.66941552e-01, 1.99000000e+04]])"
      ]
     },
     "execution_count": 44,
     "metadata": {},
     "output_type": "execute_result"
    }
   ],
   "source": [
    "from scipy.cluster.hierarchy import ward, fcluster\n",
    "from scipy.spatial.distance import pdist\n",
    "print(len(link))\n",
    "link"
   ]
  },
  {
   "cell_type": "code",
   "execution_count": 33,
   "metadata": {},
   "outputs": [],
   "source": [
    "Z = ward(pdist(distance_cutted))"
   ]
  },
  {
   "cell_type": "code",
   "execution_count": 39,
   "metadata": {},
   "outputs": [
    {
     "name": "stdout",
     "output_type": "stream",
     "text": [
      "[6 7 6 ... 9 9 9]\n"
     ]
    }
   ],
   "source": [
    "Y=fcluster(link, t=0.4, criterion='distance', depth=2, R=None, monocrit=None)\n",
    "print(Y)"
   ]
  },
  {
   "cell_type": "code",
   "execution_count": null,
   "metadata": {},
   "outputs": [],
   "source": [
    "\n"
   ]
  },
  {
   "cell_type": "code",
   "execution_count": null,
   "metadata": {},
   "outputs": [],
   "source": []
  }
 ],
 "metadata": {
  "kernelspec": {
   "display_name": "Python 3",
   "language": "python",
   "name": "python3"
  },
  "language_info": {
   "codemirror_mode": {
    "name": "ipython",
    "version": 3
   },
   "file_extension": ".py",
   "mimetype": "text/x-python",
   "name": "python",
   "nbconvert_exporter": "python",
   "pygments_lexer": "ipython3",
   "version": "3.7.0"
  }
 },
 "nbformat": 4,
 "nbformat_minor": 2
}
