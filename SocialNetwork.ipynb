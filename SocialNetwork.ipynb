{
 "cells": [
  {
   "cell_type": "code",
   "execution_count": 1,
   "metadata": {},
   "outputs": [],
   "source": [
    "# library definition for using them"
   ]
  },
  {
   "cell_type": "code",
   "execution_count": 10,
   "metadata": {},
   "outputs": [
    {
     "ename": "ModuleNotFoundError",
     "evalue": "No module named 'networkx'",
     "output_type": "error",
     "traceback": [
      "\u001b[1;31m---------------------------------------------------------------------------\u001b[0m",
      "\u001b[1;31mModuleNotFoundError\u001b[0m                       Traceback (most recent call last)",
      "\u001b[1;32m<ipython-input-10-d8040da6902f>\u001b[0m in \u001b[0;36m<module>\u001b[1;34m\u001b[0m\n\u001b[0;32m      2\u001b[0m \u001b[1;32mimport\u001b[0m \u001b[0mnumpy\u001b[0m \u001b[1;32mas\u001b[0m \u001b[0mnp\u001b[0m\u001b[1;33m\u001b[0m\u001b[1;33m\u001b[0m\u001b[0m\n\u001b[0;32m      3\u001b[0m \u001b[1;32mimport\u001b[0m \u001b[0mmatplotlib\u001b[0m\u001b[1;33m.\u001b[0m\u001b[0mpyplot\u001b[0m \u001b[1;32mas\u001b[0m \u001b[0mplt\u001b[0m\u001b[1;33m\u001b[0m\u001b[1;33m\u001b[0m\u001b[0m\n\u001b[1;32m----> 4\u001b[1;33m \u001b[1;32mimport\u001b[0m \u001b[0mnetworkx\u001b[0m \u001b[1;32mas\u001b[0m \u001b[0mnx\u001b[0m\u001b[1;33m\u001b[0m\u001b[1;33m\u001b[0m\u001b[0m\n\u001b[0m\u001b[0;32m      5\u001b[0m \u001b[1;32mfrom\u001b[0m \u001b[0mdatetimerange\u001b[0m \u001b[1;32mimport\u001b[0m \u001b[0mDateTimeRange\u001b[0m\u001b[1;33m\u001b[0m\u001b[1;33m\u001b[0m\u001b[0m\n\u001b[0;32m      6\u001b[0m \u001b[1;32mfrom\u001b[0m \u001b[0mtqdm\u001b[0m \u001b[1;32mimport\u001b[0m \u001b[0mtqdm_notebook\u001b[0m \u001b[1;32mas\u001b[0m \u001b[0mtqdm\u001b[0m\u001b[1;33m\u001b[0m\u001b[1;33m\u001b[0m\u001b[0m\n",
      "\u001b[1;31mModuleNotFoundError\u001b[0m: No module named 'networkx'"
     ]
    }
   ],
   "source": [
    "import pandas as pd\n",
    "import numpy as np\n",
    "import matplotlib.pyplot as plt\n",
    "import networkx as nx\n",
    "from datetimerange import DateTimeRange\n",
    "from tqdm import tqdm_notebook as tqdm\n",
    "import traceback\n",
    "import demon as d"
   ]
  },
  {
   "cell_type": "code",
   "execution_count": null,
   "metadata": {},
   "outputs": [],
   "source": [
    "# reading data from cvs dataset in default (data) folder\n",
    "# discart unused fields \"log_start\" and \"log_and\")\n",
    "# and display first 20 rows"
   ]
  },
  {
   "cell_type": "code",
   "execution_count": 3,
   "metadata": {
    "scrolled": true
   },
   "outputs": [
    {
     "data": {
      "text/html": [
       "<div>\n",
       "<style scoped>\n",
       "    .dataframe tbody tr th:only-of-type {\n",
       "        vertical-align: middle;\n",
       "    }\n",
       "\n",
       "    .dataframe tbody tr th {\n",
       "        vertical-align: top;\n",
       "    }\n",
       "\n",
       "    .dataframe thead th {\n",
       "        text-align: right;\n",
       "    }\n",
       "</style>\n",
       "<table border=\"1\" class=\"dataframe\">\n",
       "  <thead>\n",
       "    <tr style=\"text-align: right;\">\n",
       "      <th></th>\n",
       "      <th>MAC Address</th>\n",
       "      <th>tempo_log</th>\n",
       "      <th>AP Name</th>\n",
       "      <th>log_startv</th>\n",
       "      <th>log_endv</th>\n",
       "      <th>area</th>\n",
       "    </tr>\n",
       "  </thead>\n",
       "  <tbody>\n",
       "    <tr>\n",
       "      <th>0</th>\n",
       "      <td>00:00:36:75:f5:36</td>\n",
       "      <td>10</td>\n",
       "      <td>Aule-B55-01-PortineriaP1</td>\n",
       "      <td>2018-11-09T15:58:00</td>\n",
       "      <td>2018-11-09T16:08:39</td>\n",
       "      <td>Polo Fibonacci</td>\n",
       "    </tr>\n",
       "    <tr>\n",
       "      <th>1</th>\n",
       "      <td>00:00:48:dd:35:b7</td>\n",
       "      <td>606</td>\n",
       "      <td>MED-SC-Ed2-Neonatologia-P1</td>\n",
       "      <td>2018-11-12T05:07:00</td>\n",
       "      <td>2018-11-12T15:13:56</td>\n",
       "      <td>Ospedale Santa Chiara</td>\n",
       "    </tr>\n",
       "    <tr>\n",
       "      <th>2</th>\n",
       "      <td>00:00:48:dd:35:b7</td>\n",
       "      <td>1227</td>\n",
       "      <td>MED-SC-Ed2-Neonatologia-P1</td>\n",
       "      <td>2018-11-06T11:40:00</td>\n",
       "      <td>2018-11-07T08:07:54</td>\n",
       "      <td>Ospedale Santa Chiara</td>\n",
       "    </tr>\n",
       "    <tr>\n",
       "      <th>3</th>\n",
       "      <td>00:00:6a:4a:28:6a</td>\n",
       "      <td>7</td>\n",
       "      <td>VET-B22-Aula_E</td>\n",
       "      <td>2018-11-07T07:58:00</td>\n",
       "      <td>2018-11-07T08:05:33</td>\n",
       "      <td>Dipartimento di Scienze Veterinarie</td>\n",
       "    </tr>\n",
       "    <tr>\n",
       "      <th>4</th>\n",
       "      <td>00:00:b6:ff:50:b6</td>\n",
       "      <td>5</td>\n",
       "      <td>CIS_MED-Ed30C_A_S1-S2_Cor_PT_Est</td>\n",
       "      <td>2018-11-06T10:04:00</td>\n",
       "      <td>2018-11-06T10:09:21</td>\n",
       "      <td>Ospedale di Cisanello</td>\n",
       "    </tr>\n",
       "    <tr>\n",
       "      <th>5</th>\n",
       "      <td>00:03:7f:c2:00:43</td>\n",
       "      <td>5</td>\n",
       "      <td>AP_MensaPraticelli</td>\n",
       "      <td>2018-11-06T18:34:00</td>\n",
       "      <td>2018-11-06T18:39:03</td>\n",
       "      <td>Residenza I Praticelli</td>\n",
       "    </tr>\n",
       "    <tr>\n",
       "      <th>6</th>\n",
       "      <td>00:03:ab:db:1d:85</td>\n",
       "      <td>5</td>\n",
       "      <td>FARM_AP_Minutolo</td>\n",
       "      <td>2018-11-11T15:57:00</td>\n",
       "      <td>2018-11-11T16:02:22</td>\n",
       "      <td>Dipartimento di Farmacia</td>\n",
       "    </tr>\n",
       "    <tr>\n",
       "      <th>7</th>\n",
       "      <td>00:03:ac:19:2e:39</td>\n",
       "      <td>96</td>\n",
       "      <td>ECO_AulaB</td>\n",
       "      <td>2018-11-07T06:30:00</td>\n",
       "      <td>2018-11-07T08:06:00</td>\n",
       "      <td>Dipartimento di Economia</td>\n",
       "    </tr>\n",
       "    <tr>\n",
       "      <th>8</th>\n",
       "      <td>00:03:ac:19:2e:39</td>\n",
       "      <td>6</td>\n",
       "      <td>PEA-Aula_L1Ext</td>\n",
       "      <td>2018-11-12T10:56:00</td>\n",
       "      <td>2018-11-12T11:02:23</td>\n",
       "      <td>Dipartimento di Economia</td>\n",
       "    </tr>\n",
       "    <tr>\n",
       "      <th>9</th>\n",
       "      <td>00:03:ac:19:2f:c6</td>\n",
       "      <td>10</td>\n",
       "      <td>PalCongressi_RoomE</td>\n",
       "      <td>2018-11-10T12:00:00</td>\n",
       "      <td>2018-11-10T12:10:52</td>\n",
       "      <td>Palazzo Congressi</td>\n",
       "    </tr>\n",
       "    <tr>\n",
       "      <th>10</th>\n",
       "      <td>00:03:ac:1c:9e:5d</td>\n",
       "      <td>10</td>\n",
       "      <td>Biblio-Antichistica_AP6</td>\n",
       "      <td>2018-11-06T16:52:00</td>\n",
       "      <td>2018-11-06T17:02:12</td>\n",
       "      <td>Biblioteca Salesiani</td>\n",
       "    </tr>\n",
       "    <tr>\n",
       "      <th>11</th>\n",
       "      <td>00:03:ac:21:77:e6</td>\n",
       "      <td>5</td>\n",
       "      <td>ECO_LatoGradoni_Ext</td>\n",
       "      <td>2018-11-06T13:38:00</td>\n",
       "      <td>2018-11-06T13:43:28</td>\n",
       "      <td>Dipartimento di Economia</td>\n",
       "    </tr>\n",
       "    <tr>\n",
       "      <th>12</th>\n",
       "      <td>00:03:ac:21:77:e6</td>\n",
       "      <td>20</td>\n",
       "      <td>ECO_Aula_C</td>\n",
       "      <td>2018-11-12T14:56:00</td>\n",
       "      <td>2018-11-12T15:16:08</td>\n",
       "      <td>Dipartimento di Economia</td>\n",
       "    </tr>\n",
       "    <tr>\n",
       "      <th>13</th>\n",
       "      <td>00:04:4b:2d:2a:4c</td>\n",
       "      <td>41</td>\n",
       "      <td>Aule-B55-00-AulaStudio_1A</td>\n",
       "      <td>2018-11-06T10:59:00</td>\n",
       "      <td>2018-11-06T11:40:00</td>\n",
       "      <td>Polo Fibonacci</td>\n",
       "    </tr>\n",
       "    <tr>\n",
       "      <th>14</th>\n",
       "      <td>00:04:4b:2f:e4:23</td>\n",
       "      <td>10</td>\n",
       "      <td>DMA_B28-01-Ext</td>\n",
       "      <td>2018-11-11T19:31:00</td>\n",
       "      <td>2018-11-11T19:41:45</td>\n",
       "      <td>Polo Fibonacci</td>\n",
       "    </tr>\n",
       "    <tr>\n",
       "      <th>15</th>\n",
       "      <td>00:04:4b:56:a4:c0</td>\n",
       "      <td>89</td>\n",
       "      <td>PEA-Aula_C1Ext</td>\n",
       "      <td>2018-11-12T09:33:00</td>\n",
       "      <td>2018-11-12T11:02:23</td>\n",
       "      <td>Dipartimento di Economia</td>\n",
       "    </tr>\n",
       "    <tr>\n",
       "      <th>16</th>\n",
       "      <td>00:04:4b:56:a4:c0</td>\n",
       "      <td>85</td>\n",
       "      <td>PEA-Aula_A1</td>\n",
       "      <td>2018-11-06T08:38:00</td>\n",
       "      <td>2018-11-06T10:03:33</td>\n",
       "      <td>Dipartimento di Economia</td>\n",
       "    </tr>\n",
       "    <tr>\n",
       "      <th>17</th>\n",
       "      <td>00:04:4b:60:1f:1c</td>\n",
       "      <td>10</td>\n",
       "      <td>SSSUP_Aula</td>\n",
       "      <td>2018-11-10T18:34:00</td>\n",
       "      <td>2018-11-10T18:44:11</td>\n",
       "      <td>Scuola Superiore S.Anna</td>\n",
       "    </tr>\n",
       "    <tr>\n",
       "      <th>18</th>\n",
       "      <td>00:04:4b:60:1f:1c</td>\n",
       "      <td>44</td>\n",
       "      <td>Aule-B55-00-AulaD</td>\n",
       "      <td>2018-11-07T07:21:00</td>\n",
       "      <td>2018-11-07T08:05:57</td>\n",
       "      <td>Polo Fibonacci</td>\n",
       "    </tr>\n",
       "    <tr>\n",
       "      <th>19</th>\n",
       "      <td>00:04:4b:62:66:a8</td>\n",
       "      <td>33</td>\n",
       "      <td>FILELI_Boileau_Aula3</td>\n",
       "      <td>2018-11-12T11:37:00</td>\n",
       "      <td>2018-11-12T12:10:48</td>\n",
       "      <td>Facoltà di Lingue</td>\n",
       "    </tr>\n",
       "  </tbody>\n",
       "</table>\n",
       "</div>"
      ],
      "text/plain": [
       "          MAC Address  tempo_log                           AP Name  \\\n",
       "0   00:00:36:75:f5:36         10          Aule-B55-01-PortineriaP1   \n",
       "1   00:00:48:dd:35:b7        606        MED-SC-Ed2-Neonatologia-P1   \n",
       "2   00:00:48:dd:35:b7       1227        MED-SC-Ed2-Neonatologia-P1   \n",
       "3   00:00:6a:4a:28:6a          7                    VET-B22-Aula_E   \n",
       "4   00:00:b6:ff:50:b6          5  CIS_MED-Ed30C_A_S1-S2_Cor_PT_Est   \n",
       "5   00:03:7f:c2:00:43          5                AP_MensaPraticelli   \n",
       "6   00:03:ab:db:1d:85          5                  FARM_AP_Minutolo   \n",
       "7   00:03:ac:19:2e:39         96                         ECO_AulaB   \n",
       "8   00:03:ac:19:2e:39          6                    PEA-Aula_L1Ext   \n",
       "9   00:03:ac:19:2f:c6         10                PalCongressi_RoomE   \n",
       "10  00:03:ac:1c:9e:5d         10           Biblio-Antichistica_AP6   \n",
       "11  00:03:ac:21:77:e6          5               ECO_LatoGradoni_Ext   \n",
       "12  00:03:ac:21:77:e6         20                        ECO_Aula_C   \n",
       "13  00:04:4b:2d:2a:4c         41         Aule-B55-00-AulaStudio_1A   \n",
       "14  00:04:4b:2f:e4:23         10                    DMA_B28-01-Ext   \n",
       "15  00:04:4b:56:a4:c0         89                    PEA-Aula_C1Ext   \n",
       "16  00:04:4b:56:a4:c0         85                       PEA-Aula_A1   \n",
       "17  00:04:4b:60:1f:1c         10                        SSSUP_Aula   \n",
       "18  00:04:4b:60:1f:1c         44                 Aule-B55-00-AulaD   \n",
       "19  00:04:4b:62:66:a8         33              FILELI_Boileau_Aula3   \n",
       "\n",
       "             log_startv             log_endv  \\\n",
       "0   2018-11-09T15:58:00  2018-11-09T16:08:39   \n",
       "1   2018-11-12T05:07:00  2018-11-12T15:13:56   \n",
       "2   2018-11-06T11:40:00  2018-11-07T08:07:54   \n",
       "3   2018-11-07T07:58:00  2018-11-07T08:05:33   \n",
       "4   2018-11-06T10:04:00  2018-11-06T10:09:21   \n",
       "5   2018-11-06T18:34:00  2018-11-06T18:39:03   \n",
       "6   2018-11-11T15:57:00  2018-11-11T16:02:22   \n",
       "7   2018-11-07T06:30:00  2018-11-07T08:06:00   \n",
       "8   2018-11-12T10:56:00  2018-11-12T11:02:23   \n",
       "9   2018-11-10T12:00:00  2018-11-10T12:10:52   \n",
       "10  2018-11-06T16:52:00  2018-11-06T17:02:12   \n",
       "11  2018-11-06T13:38:00  2018-11-06T13:43:28   \n",
       "12  2018-11-12T14:56:00  2018-11-12T15:16:08   \n",
       "13  2018-11-06T10:59:00  2018-11-06T11:40:00   \n",
       "14  2018-11-11T19:31:00  2018-11-11T19:41:45   \n",
       "15  2018-11-12T09:33:00  2018-11-12T11:02:23   \n",
       "16  2018-11-06T08:38:00  2018-11-06T10:03:33   \n",
       "17  2018-11-10T18:34:00  2018-11-10T18:44:11   \n",
       "18  2018-11-07T07:21:00  2018-11-07T08:05:57   \n",
       "19  2018-11-12T11:37:00  2018-11-12T12:10:48   \n",
       "\n",
       "                                   area  \n",
       "0                        Polo Fibonacci  \n",
       "1                 Ospedale Santa Chiara  \n",
       "2                 Ospedale Santa Chiara  \n",
       "3   Dipartimento di Scienze Veterinarie  \n",
       "4                 Ospedale di Cisanello  \n",
       "5                Residenza I Praticelli  \n",
       "6              Dipartimento di Farmacia  \n",
       "7              Dipartimento di Economia  \n",
       "8              Dipartimento di Economia  \n",
       "9                     Palazzo Congressi  \n",
       "10                 Biblioteca Salesiani  \n",
       "11             Dipartimento di Economia  \n",
       "12             Dipartimento di Economia  \n",
       "13                       Polo Fibonacci  \n",
       "14                       Polo Fibonacci  \n",
       "15             Dipartimento di Economia  \n",
       "16             Dipartimento di Economia  \n",
       "17              Scuola Superiore S.Anna  \n",
       "18                       Polo Fibonacci  \n",
       "19                    Facoltà di Lingue  "
      ]
     },
     "execution_count": 3,
     "metadata": {},
     "output_type": "execute_result"
    }
   ],
   "source": [
    "df = pd.read_csv(\"data/genera passaggi per python.txt\", encoding=\"latin\")\n",
    "df = df.drop([\"log_start\",\"log_end\"],axis=1)\n",
    "df.head(20)"
   ]
  },
  {
   "cell_type": "markdown",
   "metadata": {},
   "source": [
    "# Data Understanding\n",
    "\n",
    "### Capire come sono distribuiti i tempi di connessione.\n",
    "\n",
    "Posso scartare overlapping non significativi (troppo corti) ?\n",
    "(dare la definizione di \"corti\")\n",
    "\n",
    "Devo considerare il tempo di overlapping in correlazione con il tempo di connesssione?<br>\n",
    "Oppure i tempi di overlapping sono distribuiti come i tempi di connessione? "
   ]
  },
  {
   "cell_type": "code",
   "execution_count": 4,
   "metadata": {},
   "outputs": [],
   "source": [
    "# define function for calculate time-interval in seconds"
   ]
  },
  {
   "cell_type": "code",
   "execution_count": 5,
   "metadata": {},
   "outputs": [],
   "source": [
    "import datetime\n",
    "def calcolasecondi (range1,range2):\n",
    "    inter = range1.intersection(range2)\n",
    "    estremo1 = str(inter).split(\" - \")[0]\n",
    "    estremo2 = str(inter).split(\" - \")[1]\n",
    "    return ((np.datetime64(estremo2) - np.datetime64(estremo1)) / np.timedelta64(1, 's'))"
   ]
  },
  {
   "cell_type": "code",
   "execution_count": 6,
   "metadata": {},
   "outputs": [],
   "source": [
    "# set the list of APs we want to examine. To change for DB use "
   ]
  },
  {
   "cell_type": "code",
   "execution_count": 7,
   "metadata": {},
   "outputs": [],
   "source": [
    "different_AP = [\"VET-B22-Aula_E\"] #,\"CIS_MED_Ed30C_S1-S2_Corr_PT_Int\"]"
   ]
  },
  {
   "cell_type": "code",
   "execution_count": 8,
   "metadata": {},
   "outputs": [],
   "source": [
    "# generate the overlapping-time list of the selected APs"
   ]
  },
  {
   "cell_type": "code",
   "execution_count": 9,
   "metadata": {},
   "outputs": [
    {
     "ename": "NameError",
     "evalue": "name 'tqdm' is not defined",
     "output_type": "error",
     "traceback": [
      "\u001b[1;31m---------------------------------------------------------------------------\u001b[0m",
      "\u001b[1;31mNameError\u001b[0m                                 Traceback (most recent call last)",
      "\u001b[1;32m<ipython-input-9-5985d78df4a5>\u001b[0m in \u001b[0;36m<module>\u001b[1;34m\u001b[0m\n\u001b[0;32m      5\u001b[0m \u001b[1;32mfor\u001b[0m \u001b[0mAP\u001b[0m \u001b[1;32min\u001b[0m \u001b[0mdifferent_AP\u001b[0m\u001b[1;33m:\u001b[0m\u001b[1;33m\u001b[0m\u001b[1;33m\u001b[0m\u001b[0m\n\u001b[0;32m      6\u001b[0m     \u001b[0mdf_AP\u001b[0m \u001b[1;33m=\u001b[0m \u001b[0mdf\u001b[0m\u001b[1;33m[\u001b[0m\u001b[0mdf\u001b[0m\u001b[1;33m[\u001b[0m\u001b[1;34m\"AP Name\"\u001b[0m\u001b[1;33m]\u001b[0m\u001b[1;33m==\u001b[0m\u001b[0mAP\u001b[0m\u001b[1;33m]\u001b[0m\u001b[1;33m.\u001b[0m\u001b[0mvalues\u001b[0m\u001b[1;33m\u001b[0m\u001b[1;33m\u001b[0m\u001b[0m\n\u001b[1;32m----> 7\u001b[1;33m     \u001b[1;32mfor\u001b[0m \u001b[0mi\u001b[0m \u001b[1;32min\u001b[0m \u001b[0mtqdm\u001b[0m\u001b[1;33m(\u001b[0m\u001b[0mrange\u001b[0m\u001b[1;33m(\u001b[0m\u001b[1;36m0\u001b[0m\u001b[1;33m,\u001b[0m\u001b[0mlen\u001b[0m\u001b[1;33m(\u001b[0m\u001b[0mdf_AP\u001b[0m\u001b[1;33m)\u001b[0m\u001b[1;33m-\u001b[0m\u001b[1;36m1\u001b[0m\u001b[1;33m)\u001b[0m\u001b[1;33m)\u001b[0m\u001b[1;33m:\u001b[0m\u001b[1;33m\u001b[0m\u001b[1;33m\u001b[0m\u001b[0m\n\u001b[0m\u001b[0;32m      8\u001b[0m         \u001b[1;32mfor\u001b[0m \u001b[0mj\u001b[0m \u001b[1;32min\u001b[0m \u001b[0mrange\u001b[0m\u001b[1;33m(\u001b[0m\u001b[0mi\u001b[0m\u001b[1;33m+\u001b[0m\u001b[1;36m1\u001b[0m\u001b[1;33m,\u001b[0m\u001b[0mlen\u001b[0m\u001b[1;33m(\u001b[0m\u001b[0mdf_AP\u001b[0m\u001b[1;33m)\u001b[0m\u001b[1;33m)\u001b[0m\u001b[1;33m:\u001b[0m\u001b[1;33m\u001b[0m\u001b[1;33m\u001b[0m\u001b[0m\n\u001b[0;32m      9\u001b[0m             \u001b[1;32mtry\u001b[0m\u001b[1;33m:\u001b[0m\u001b[1;33m\u001b[0m\u001b[1;33m\u001b[0m\u001b[0m\n",
      "\u001b[1;31mNameError\u001b[0m: name 'tqdm' is not defined"
     ]
    }
   ],
   "source": [
    "# genera lista con tutti i tempi di overlapping di una lista di access point (AP)\n",
    "# different_AP = [AP] \n",
    "# different_AP = set(df[\"AP Name\"])\n",
    "overlapping_time = []\n",
    "for AP in different_AP:\n",
    "    df_AP = df[df[\"AP Name\"]==AP].values\n",
    "    for i in tqdm(range(0,len(df_AP)-1)):\n",
    "        for j in range(i+1,len(df_AP)):\n",
    "            try:\n",
    "                datarange1= DateTimeRange(df_AP[i][3],df_AP[i][4])\n",
    "                datarange2= DateTimeRange(df_AP[j][3],df_AP[j][4])\n",
    "                is_inters = datarange1.is_intersection(datarange2)\n",
    "                if (is_inters):\n",
    "                    assert(df_AP[i][0] != df_AP[j][0])\n",
    "                    overlapping_time.append(calcolasecondi(datarange1,datarange2))\n",
    "            except ValueError:\n",
    "                print (\"problemi con le date\")\n",
    "                print (df_AP[i][2],df_AP[i][3])\n",
    "                print (df_AP[j][2],df_AP[j][3])\n",
    "                traceback.print_exc()\n",
    "                break\n"
   ]
  },
  {
   "cell_type": "code",
   "execution_count": 74,
   "metadata": {},
   "outputs": [],
   "source": [
    "#for x in range(len(overlapping_time)): \n",
    "#    print (overlapping_time[x])"
   ]
  },
  {
   "cell_type": "code",
   "execution_count": 75,
   "metadata": {},
   "outputs": [],
   "source": [
    "# For the specifics APs, it plots:\n",
    "#  - barchart overlap time (all couples of users)\n",
    "#  - barchart log time (all single users)\n",
    "# To compare how diffents are the log-time function from overlapping-time one. "
   ]
  },
  {
   "cell_type": "code",
   "execution_count": 76,
   "metadata": {
    "scrolled": true
   },
   "outputs": [
    {
     "data": {
      "image/png": "[encoded data removed]",
      "text/plain": [
       "<Figure size 1080x576 with 1 Axes>"
      ]
     },
     "metadata": {
      "needs_background": "light"
     },
     "output_type": "display_data"
    },
    {
     "data": {
      "image/png": "[encoded data removed]",
      "text/plain": [
       "<Figure size 1080x576 with 1 Axes>"
      ]
     },
     "metadata": {
      "needs_background": "light"
     },
     "output_type": "display_data"
    }
   ],
   "source": [
    "plt.figure(figsize = (15,8))\n",
    "bins=[0,10,20,40,60,80,100,150,200,350,400]\n",
    "plt.title(\"overlapping utenti\")\n",
    "plt.ylabel(\"count\")\n",
    "plt.xlabel(\"minuti\")\n",
    "plt.hist(np.array(overlapping_time)/60.0, bins=bins, log=True, ec='black')\n",
    "plt.xticks(bins)\n",
    "\n",
    "plt.show()\n",
    "\n",
    "\n",
    "plt.figure(figsize = (15,8))\n",
    "plt.title(\"tempo log singolo utente\")\n",
    "plt.ylabel(\"count\")\n",
    "plt.xlabel(\"minuti\")\n",
    "plt.hist(df[df[\"AP Name\"]==AP][\"tempo_log\"], bins=bins, log=True, ec='black')\n",
    "plt.xticks(bins)\n",
    "\n",
    "plt.show()\n",
    "\n"
   ]
  },
  {
   "cell_type": "markdown",
   "metadata": {},
   "source": [
    "Corto vuol dire < 20 minuti <br>\n"
   ]
  },
  {
   "cell_type": "markdown",
   "metadata": {},
   "source": [
    "# Social Network\n",
    "\n",
    "###  Rete di prossimità\n",
    "\n",
    "* nodi: gli utenti\n",
    "* archi: se due utenti sono stati connessi allo stesso AP contemporaneamente per più di N minuti (N =~ 20, da perfezionare)"
   ]
  },
  {
   "cell_type": "code",
   "execution_count": 77,
   "metadata": {
    "scrolled": true
   },
   "outputs": [
    {
     "data": {
      "application/vnd.jupyter.widget-view+json": {
       "model_id": "0f3432243e614de28a4eb634e170d7bb",
       "version_major": 2,
       "version_minor": 0
      },
      "text/plain": [
       "HBox(children=(IntProgress(value=0, max=821), HTML(value='')))"
      ]
     },
     "metadata": {},
     "output_type": "display_data"
    },
    {
     "name": "stdout",
     "output_type": "stream",
     "text": [
      "\n"
     ]
    }
   ],
   "source": [
    "# per generare la rete la prima volta\n",
    "# non sempre necessario eseguirla, posso aprire un file con una rete esportata\n",
    "\n",
    "tempoMinimo = 20.0 * 60.0\n",
    "\n",
    "selected_area = [\"Dipartimento di Chimica\"]\n",
    "#selected_area = set(df[\"AP Name\"])\n",
    "#selected_area = pd.read_csv(\"data/selezione.txt\", header=None, encoding=\"latin\")\n",
    "\n",
    "\n",
    "for area in selected_area:\n",
    "    archi = {}\n",
    "    df_area = df[df[\"area\"]==area].values\n",
    "    for i in tqdm(range(0,len(df_area)-1)):\n",
    "        for j in range(i+1,len(df_area)):\n",
    "            try:\n",
    "                datarange1= DateTimeRange(df_area[i][3],df_area[i][4])\n",
    "                datarange2= DateTimeRange(df_area[j][3],df_area[j][4])\n",
    "                is_inters = datarange1.is_intersection(datarange2)\n",
    "                if (is_inters):\n",
    "                    assert(df_area[i][0] != df_area[j][0])\n",
    "                    overlapping = calcolasecondi(datarange1,datarange2)\n",
    "                    if (overlapping >= tempoMinimo):\n",
    "                        assert(df_area[i][0] != df_area[j][0])\n",
    "                        coppia = (df_area[i][0],df_area[j][0])\n",
    "                        if (coppia in archi): archi[coppia] += 1\n",
    "                        else: archi[coppia] = 1\n",
    "            except ValueError:\n",
    "                print (\"problemi con le date\")\n",
    "                print (df_area[i][2],df_area[i][3])\n",
    "                print (df_area[j][2],df_area[j][3])\n",
    "                traceback.print_exc()\n",
    "                break\n",
    "                \n",
    "archi_graph = []\n",
    "for elem in archi:\n",
    "    single_arch = (elem[0],elem[1],{\"weight\": archi[elem]})\n",
    "    archi_graph.append(single_arch)\n",
    "    \n"
   ]
  },
  {
   "cell_type": "code",
   "execution_count": 24,
   "metadata": {},
   "outputs": [],
   "source": [
    "G = nx.Graph()\n",
    "G.add_edges_from(archi_graph)"
   ]
  },
  {
   "cell_type": "code",
   "execution_count": 30,
   "metadata": {},
   "outputs": [
    {
     "name": "stdout",
     "output_type": "stream",
     "text": [
      "Nodes: 345\n",
      "Edges: 20919\n"
     ]
    }
   ],
   "source": [
    "# G = nx.read_gexf(\"test.gexf\")\n",
    "\n",
    "print(\"Nodes:\", G.number_of_nodes())\n",
    "print(\"Edges:\", G.number_of_edges())"
   ]
  },
  {
   "cell_type": "markdown",
   "metadata": {},
   "source": [
    "# DEMON\n",
    "#### comunities con overlapping"
   ]
  },
  {
   "cell_type": "code",
   "execution_count": 26,
   "metadata": {},
   "outputs": [
    {
     "name": "stderr",
     "output_type": "stream",
     "text": [
      "Exec: 100%|████████████████████████"
     ]
    },
    {
     "name": "stdout",
     "output_type": "stream",
     "text": [
      "Time:  'execute' 62.15 sec\n",
      "------------------------------------\n"
     ]
    },
    {
     "name": "stderr",
     "output_type": "stream",
     "text": [
      "\n"
     ]
    }
   ],
   "source": [
    "dm = d.Demon(graph=G, epsilon=0.25, min_community_size=3)\n",
    "coms = dm.execute()"
   ]
  },
  {
   "cell_type": "code",
   "execution_count": 35,
   "metadata": {},
   "outputs": [
    {
     "name": "stdout",
     "output_type": "stream",
     "text": [
      "com 1 : 36 items\n",
      "com 2 : 331 items\n",
      "com 3 : 308 items\n"
     ]
    }
   ],
   "source": [
    "# grandezza delle comunità trovate\n",
    "I=0\n",
    "for com in coms:\n",
    "   I=I+1 \n",
    "   print(\"com\", I, \":\", len(com), \"items\")"
   ]
  },
  {
   "cell_type": "code",
   "execution_count": 36,
   "metadata": {},
   "outputs": [],
   "source": [
    "# costruisco dizionario {nodo -> comunità}\n",
    "coms_dict = {}\n",
    "for i,com in enumerate(coms):\n",
    "    for node in com:\n",
    "        coms_dict[node] = i+1"
   ]
  },
  {
   "cell_type": "code",
   "execution_count": 46,
   "metadata": {},
   "outputs": [
    {
     "data": {
      "image/png": "[encoded data removed]",
      "text/plain": [
       "<Figure size 864x576 with 1 Axes>"
      ]
     },
     "metadata": {},
     "output_type": "display_data"
    }
   ],
   "source": [
    "# siccome le comunità sono sovrapposte, pessimo approccio.\n",
    "\n",
    "color_map = []\n",
    "for node in G:\n",
    "    if node in coms_dict: color_map.append(coms_dict[node])\n",
    "    else: color_map.append(0)\n",
    "\n",
    "plt.figure(figsize=(12,8))\n",
    "nx.draw(G, node_size=20, edge_color='grey', node_color=color_map, pos=nx.spring_layout(G))\n",
    "plt.show()"
   ]
  },
  {
   "cell_type": "markdown",
   "metadata": {},
   "source": [
    "# Louvain\n",
    "\n",
    "#### no overlapping"
   ]
  },
  {
   "cell_type": "code",
   "execution_count": 63,
   "metadata": {
    "scrolled": false
   },
   "outputs": [
    {
     "data": {
      "image/png": "[encoded data removed]",
      "text/plain": [
       "<Figure size 936x576 with 1 Axes>"
      ]
     },
     "metadata": {},
     "output_type": "display_data"
    }
   ],
   "source": [
    "import community.community_louvain as community\n",
    "part = community.best_partition(G)\n",
    "values = [part.get(node) for node in G.nodes()]\n",
    "plt.figure(figsize=(13,8))\n",
    "nx.draw_spring(G, cmap = plt.get_cmap('jet'), node_color = values, node_size=15, with_labels=False, edge_color='grey')\n",
    "plt.show()"
   ]
  },
  {
   "cell_type": "code",
   "execution_count": 51,
   "metadata": {},
   "outputs": [
    {
     "name": "stdout",
     "output_type": "stream",
     "text": [
      "modularity: 0.1507300835094118\n"
     ]
    }
   ],
   "source": [
    "# statistiche\n",
    "mod_louvain = community.modularity(part,G)\n",
    "print(\"modularity:\", mod_louvain)"
   ]
  },
  {
   "cell_type": "code",
   "execution_count": null,
   "metadata": {},
   "outputs": [],
   "source": []
  }
 ],
 "metadata": {
  "kernelspec": {
   "display_name": "Python 3",
   "language": "python",
   "name": "python3"
  },
  "language_info": {
   "codemirror_mode": {
    "name": "ipython",
    "version": 3
   },
   "file_extension": ".py",
   "mimetype": "text/x-python",
   "name": "python",
   "nbconvert_exporter": "python",
   "pygments_lexer": "ipython3",
   "version": "3.7.2"
  }
 },
 "nbformat": 4,
 "nbformat_minor": 2
}
